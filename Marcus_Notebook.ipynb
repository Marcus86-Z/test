{
 "cells": [
  {
   "cell_type": "markdown",
   "metadata": {},
   "source": [
    "<center>\n",
    "    <img src=\"https://cf-courses-data.s3.us.cloud-object-storage.appdomain.cloud/IBMDeveloperSkillsNetwork-DS0105EN-SkillsNetwork/labs/Module2/images/SN_web_lightmode.png\" width=\"300\" alt=\"cognitiveclass.ai logo\">\n",
    "</center>\n"
   ]
  },
  {
   "cell_type": "markdown",
   "metadata": {},
   "source": [
    "#### Add your code below following the instructions given in the course\n"
   ]
  },
  {
   "cell_type": "markdown",
   "metadata": {},
   "source": [
    "# \"My Jupyter Notebook on IBM Watson Studio\""
   ]
  },
  {
   "cell_type": "markdown",
   "metadata": {},
   "source": [
    "**Marcus Zappe**  \n",
    "KYC Specialist"
   ]
  },
  {
   "cell_type": "markdown",
   "metadata": {},
   "source": [
    "*I am interested in data science because I would like to learn more about understanding data and what it means. In addition, data has emerged as a good tool for decision-making.*"
   ]
  },
  {
   "cell_type": "markdown",
   "metadata": {},
   "source": [
    "### In the next line, a random addition problem is calculated. The maximum value of the summants is between 1 and 50."
   ]
  },
  {
   "cell_type": "code",
   "execution_count": 8,
   "metadata": {},
   "outputs": [
    {
     "name": "stdout",
     "output_type": "stream",
     "text": [
      "Zahl A = 3\n",
      "Zahl B = 9\n",
      "Das Ergebnis der Summe lautet 12\n"
     ]
    }
   ],
   "source": [
    "from random import randint\n",
    "variable_x = randint(1, 50)\n",
    "variable_y = randint(1, 50)\n",
    "Ergebnis_a = variable_x + variable_y\n",
    "print(f\"Zahl A = {variable_x}\")\n",
    "print(f\"Zahl B = {variable_y}\")\n",
    "print(f\"Das Ergebnis der Summe lautet {Ergebnis_a}\")"
   ]
  },
  {
   "cell_type": "markdown",
   "metadata": {},
   "source": [
    "|A|B|  \n",
    "|--|--|  \n",
    "|1240|129|\n",
    "\n",
    "Join us: https://www.deka.de/privatkunden\n",
    "\n",
    "1. DekaBank  \n",
    "2. Sparkasse  \n",
    "3. BaFiN\n"
   ]
  },
  {
   "cell_type": "code",
   "execution_count": null,
   "metadata": {},
   "outputs": [],
   "source": []
  }
 ],
 "metadata": {
  "kernelspec": {
   "display_name": "Python",
   "language": "python",
   "name": "conda-env-python-py"
  },
  "language_info": {
   "codemirror_mode": {
    "name": "ipython",
    "version": 3
   },
   "file_extension": ".py",
   "mimetype": "text/x-python",
   "name": "python",
   "nbconvert_exporter": "python",
   "pygments_lexer": "ipython3",
   "version": "3.7.12"
  }
 },
 "nbformat": 4,
 "nbformat_minor": 4
}
